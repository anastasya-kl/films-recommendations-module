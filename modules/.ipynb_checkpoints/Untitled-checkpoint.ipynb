{
 "cells": [
  {
   "cell_type": "code",
   "execution_count": 32,
   "id": "81554dbe-47a4-405d-b3fb-13f5392be72b",
   "metadata": {
    "tags": []
   },
   "outputs": [
    {
     "name": "stdout",
     "output_type": "stream",
     "text": [
      "{25: 3, 7: 3, 11: 1, 27: 1, 23: 1}\n"
     ]
    }
   ],
   "source": [
    "import sqlite3 as sq\n",
    "# дістати кількість зустрічань жанрів у списку фільмів за id\n",
    "\n",
    "#def users_analysis():\n",
    "    \n",
    "\n",
    "def count_genre_occurrences(ids, dbname=\"fluxmain.db\"):\n",
    "    try:\n",
    "        with sq.connect(dbname) as con:\n",
    "            cur = con.cursor()\n",
    "\n",
    "            # SQL-запит для отримання жанрів та їх кількості\n",
    "            cur.execute(\"\"\"\n",
    "                SELECT g.id, COUNT(*) as count\n",
    "                FROM filmsGenres fg\n",
    "                JOIN genres g ON fg.genreId = g.id\n",
    "                WHERE fg.filmId IN ({})\n",
    "                GROUP BY g.name\n",
    "            \"\"\".format(','.join(['?'] * len(ids))),\n",
    "            tuple(ids))\n",
    "\n",
    "            # Створення словника з результатами\n",
    "            genre_count_dict = dict(cur.fetchall())\n",
    "            \n",
    "            return genre_count_dict\n",
    "\n",
    "    except Exception as e:\n",
    "        st.error(f\"Помилка підключення до сервера: {e}\")\n",
    "        return None\n",
    "    \n",
    "res = count_genre_occurrences([1, 2, 3])\n",
    "print(res)"
   ]
  },
  {
   "cell_type": "code",
   "execution_count": 33,
   "id": "46f06139-e9a5-4500-8d72-ca996801b159",
   "metadata": {
    "tags": []
   },
   "outputs": [
    {
     "name": "stdout",
     "output_type": "stream",
     "text": [
      "[10, 5020, 12, 5370, 17, 6073]\n"
     ]
    }
   ],
   "source": [
    "# отримати збережені користувача\n",
    "def get_saves(user_id, dbname=\"fluxmain.db\"):\n",
    "    try:\n",
    "        with sq.connect(dbname) as con:\n",
    "            cur = con.cursor()\n",
    "            cur.execute('SELECT film_id FROM saves WHERE user_id = ?', (user_id,))\n",
    "            existing_row = cur.fetchall()\n",
    "            if existing_row is not None:\n",
    "                result = [i[0] for i in existing_row]\n",
    "                return result\n",
    "            return None\n",
    "    except Exception as e:\n",
    "        print(f'Помилка підключення до бази даних: {e}')\n",
    "        return None\n",
    "    \n",
    "user = get_saves(7)\n",
    "print(user)"
   ]
  },
  {
   "cell_type": "code",
   "execution_count": 34,
   "id": "17cb911c-94ca-4626-b13b-55f9ce25532b",
   "metadata": {
    "tags": []
   },
   "outputs": [],
   "source": [
    "def calculate_age(birthdate_str):\n",
    "    try: \n",
    "        birthdate_str = birthdate_str.split()[0]\n",
    "        birthdate = datetime.strptime(birthdate_str, \"%Y-%m-%d\")\n",
    "    except: birthdate = birthdate_str\n",
    "    current_date = datetime.now()\n",
    "    age = current_date.year - birthdate.year - ((current_date.month, current_date.day) < (birthdate.month, birthdate.day))\n",
    "    return age"
   ]
  },
  {
   "cell_type": "code",
   "execution_count": 61,
   "id": "c4b237cb-31b7-48e0-9003-5853f5769c7c",
   "metadata": {
    "tags": []
   },
   "outputs": [],
   "source": [
    "from datetime import datetime\n",
    "def users_analysis(dbname=\"fluxmain.db\"):\n",
    "    try:\n",
    "        with sq.connect(dbname) as con:\n",
    "            analysis_info = {}\n",
    "            cur = con.cursor()\n",
    "            cur.execute('SELECT id, birthday, gender FROM user')\n",
    "            r = cur.fetchall()\n",
    "            users_info = {'male':[], 'female':[]}\n",
    "            for user in r:\n",
    "                saves = get_saves(user[0])\n",
    "                genres_counts = count_genre_occurrences(saves)\n",
    "                users_info[user[2]].append({\n",
    "                    'id':user[0],\n",
    "                    'age':calculate_age(user[1]),\n",
    "                    'genres':genres_counts\n",
    "                })\n",
    "            return users_info\n",
    "    except Exception as e:\n",
    "        st.error(f'Помилка підключення до бази даних: {e}')\n",
    "        return None\n",
    "    \n",
    "data = users_analysis()\n",
    "for key in data:\n",
    "    data[key] = [item for item in data[key] if item['genres']]"
   ]
  },
  {
   "cell_type": "code",
   "execution_count": 62,
   "id": "4debaaca-59b9-4fc0-a21c-e71e90c63e00",
   "metadata": {
    "tags": []
   },
   "outputs": [
    {
     "name": "stdout",
     "output_type": "stream",
     "text": [
      "[{'id': 7, 'age': 19, 'genres': {25: 3, 7: 3, 5: 1, 24: 1, 27: 2, 2: 1, 20: 1, 22: 1, 12: 1, 9: 1, 14: 1}}]\n"
     ]
    }
   ],
   "source": [
    "male = data['male']\n",
    "female = data['female']\n",
    "\n",
    "print(male)"
   ]
  },
  {
   "cell_type": "code",
   "execution_count": 72,
   "id": "85c1d091-e67d-41f0-a337-4aed78110f4d",
   "metadata": {
    "tags": []
   },
   "outputs": [
    {
     "name": "stderr",
     "output_type": "stream",
     "text": [
      "C:\\Users\\lissa\\anaconda3\\Lib\\site-packages\\sklearn\\cluster\\_kmeans.py:1416: FutureWarning: The default value of `n_init` will change from 10 to 'auto' in 1.4. Set the value of `n_init` explicitly to suppress the warning\n",
      "  super()._check_params_vs_input(X, default_n_init=10)\n",
      "C:\\Users\\lissa\\anaconda3\\Lib\\site-packages\\sklearn\\cluster\\_kmeans.py:1440: UserWarning: KMeans is known to have a memory leak on Windows with MKL, when there are less chunks than available threads. You can avoid it by setting the environment variable OMP_NUM_THREADS=1.\n",
      "  warnings.warn(\n"
     ]
    },
    {
     "name": "stdout",
     "output_type": "stream",
     "text": [
      "Cluster: 0\n",
      "Cluster: 1\n"
     ]
    }
   ],
   "source": [
    "import os\n",
    "import math\n",
    "\n",
    "# Встановлюємо змінну середовища OMP_NUM_THREADS\n",
    "os.environ[\"OMP_NUM_THREADS\"] = \"1\"\n",
    "from sklearn.cluster import KMeans\n",
    "from sklearn.preprocessing import StandardScaler\n",
    "import numpy as np\n",
    "\n",
    "def cluster_users(user_data):\n",
    "    # Перетворимо дані для кластеризації\n",
    "    X = np.array([[user['age']] + list(user['genres'].values()) for user in user_data])\n",
    "\n",
    "    # Визначимо кількість кластерів\n",
    "    num_clusters = math.ceil(len(user_data)/5)\n",
    "    # Застосуємо KMeans для кластеризації\n",
    "    kmeans = KMeans(n_clusters=num_clusters, random_state=42)\n",
    "    clusters = kmeans.fit_predict(X)\n",
    "\n",
    "    # Додаємо результати кластеризації до даних користувачів\n",
    "    for i, user in enumerate(user_data):\n",
    "        user['cluster'] = clusters[i]\n",
    "\n",
    "    # Виведемо результати\n",
    "    for user in user_data:\n",
    "        print(f\"Cluster: {user['cluster']}\")\n",
    "\n",
    "# Приклад використання з більшою кількістю користувачів\n",
    "user_data = [\n",
    "    {'id':1, 'age': 19, 'genres': {25: 3, 7: 3, 5: 1, 24: 1, 27: 2, 2: 1, 20: 1, 22: 1, 12: 1, 9: 1, 14: 1}},\n",
    "    {'id':2, 'age': 25, 'genres': {25: 2, 7: 1, 5: 2, 24: 1, 27: 3, 2: 1, 20: 1, 22: 2, 12: 1, 9: 1, 14: 2}},\n",
    "    # Додайте інші дані користувачів, якщо є\n",
    "]\n",
    "\n",
    "#cluster_users(user_data)\n",
    "import random\n",
    "\n",
    "def generate_user_data(num_users):\n",
    "    user_data = []\n",
    "    for _ in range(num_users):\n",
    "        age = random.randint(18, 40)\n",
    "        genres = {i: random.randint(0, 3) for i in range(1, 28)}\n",
    "        user_data.append({'age': age, 'genres': genres})\n",
    "    return user_data\n",
    "\n",
    "# Згенеруємо 10 користувачів\n",
    "user_data_generated = generate_user_data(10)\n",
    "\n",
    "cluster_users(user_data)"
   ]
  }
 ],
 "metadata": {
  "kernelspec": {
   "display_name": "Python 3 (ipykernel)",
   "language": "python",
   "name": "python3"
  },
  "language_info": {
   "codemirror_mode": {
    "name": "ipython",
    "version": 3
   },
   "file_extension": ".py",
   "mimetype": "text/x-python",
   "name": "python",
   "nbconvert_exporter": "python",
   "pygments_lexer": "ipython3",
   "version": "3.11.5"
  }
 },
 "nbformat": 4,
 "nbformat_minor": 5
}
